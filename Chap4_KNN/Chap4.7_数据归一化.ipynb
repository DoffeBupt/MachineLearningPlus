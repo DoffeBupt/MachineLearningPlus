{
 "cells": [
  {
   "cell_type": "markdown",
   "metadata": {},
   "source": [
    "## 数据归一化处理"
   ]
  },
  {
   "cell_type": "code",
   "execution_count": 1,
   "metadata": {},
   "outputs": [],
   "source": [
    "import numpy as np\n",
    "import matplotlib.pyplot as plt"
   ]
  },
  {
   "cell_type": "markdown",
   "metadata": {},
   "source": [
    "### 最值归一化 Normalization"
   ]
  },
  {
   "cell_type": "code",
   "execution_count": 2,
   "metadata": {},
   "outputs": [],
   "source": [
    "x = np.random.randint(0,100,size=100)"
   ]
  },
  {
   "cell_type": "code",
   "execution_count": 3,
   "metadata": {},
   "outputs": [
    {
     "data": {
      "text/plain": [
       "array([36,  4, 44,  7, 25, 82, 82, 74, 31, 18, 68, 28, 38, 47, 55, 10, 73,\n",
       "       74, 92, 87, 79, 28, 87, 39, 72, 58, 71, 96, 79, 67, 38, 60, 46, 44,\n",
       "       21, 43, 12,  6,  3,  1, 39, 91, 57, 57, 89, 75, 95, 29, 68, 87, 46,\n",
       "       18, 93, 38, 92, 20, 12, 97, 86, 39, 59, 36, 59, 77, 91, 37, 19, 46,\n",
       "       63, 90, 98, 90, 22, 57, 55,  5,  9, 74, 77, 40, 40,  1, 51, 42, 32,\n",
       "       28, 13, 51, 27, 60, 79, 12, 91, 39, 11, 29, 68, 76, 76, 51])"
      ]
     },
     "execution_count": 3,
     "metadata": {},
     "output_type": "execute_result"
    }
   ],
   "source": [
    "x"
   ]
  },
  {
   "cell_type": "code",
   "execution_count": 5,
   "metadata": {},
   "outputs": [
    {
     "data": {
      "text/plain": [
       "array([0.36082474, 0.03092784, 0.44329897, 0.06185567, 0.24742268,\n",
       "       0.83505155, 0.83505155, 0.75257732, 0.30927835, 0.17525773,\n",
       "       0.69072165, 0.27835052, 0.3814433 , 0.4742268 , 0.55670103,\n",
       "       0.09278351, 0.74226804, 0.75257732, 0.93814433, 0.88659794,\n",
       "       0.80412371, 0.27835052, 0.88659794, 0.39175258, 0.73195876,\n",
       "       0.58762887, 0.72164948, 0.97938144, 0.80412371, 0.68041237,\n",
       "       0.3814433 , 0.60824742, 0.46391753, 0.44329897, 0.20618557,\n",
       "       0.43298969, 0.11340206, 0.05154639, 0.02061856, 0.        ,\n",
       "       0.39175258, 0.92783505, 0.57731959, 0.57731959, 0.90721649,\n",
       "       0.7628866 , 0.96907216, 0.28865979, 0.69072165, 0.88659794,\n",
       "       0.46391753, 0.17525773, 0.94845361, 0.3814433 , 0.93814433,\n",
       "       0.19587629, 0.11340206, 0.98969072, 0.87628866, 0.39175258,\n",
       "       0.59793814, 0.36082474, 0.59793814, 0.78350515, 0.92783505,\n",
       "       0.37113402, 0.18556701, 0.46391753, 0.63917526, 0.91752577,\n",
       "       1.        , 0.91752577, 0.21649485, 0.57731959, 0.55670103,\n",
       "       0.04123711, 0.08247423, 0.75257732, 0.78350515, 0.40206186,\n",
       "       0.40206186, 0.        , 0.51546392, 0.42268041, 0.31958763,\n",
       "       0.27835052, 0.12371134, 0.51546392, 0.26804124, 0.60824742,\n",
       "       0.80412371, 0.11340206, 0.92783505, 0.39175258, 0.10309278,\n",
       "       0.28865979, 0.69072165, 0.77319588, 0.77319588, 0.51546392])"
      ]
     },
     "execution_count": 5,
     "metadata": {},
     "output_type": "execute_result"
    }
   ],
   "source": [
    "# 写的时候可以采用universal的方式，直接矩阵开始对着加减就可以\n",
    "xscale = (x-np.min(x))/(np.max(x)-np.min(x))\n",
    "xscale"
   ]
  },
  {
   "cell_type": "markdown",
   "metadata": {},
   "source": [
    "对于矩阵操作："
   ]
  },
  {
   "cell_type": "code",
   "execution_count": 20,
   "metadata": {},
   "outputs": [],
   "source": [
    "X = np.random.randint(0,100,size=(50,2))"
   ]
  },
  {
   "cell_type": "code",
   "execution_count": 21,
   "metadata": {},
   "outputs": [
    {
     "data": {
      "text/plain": [
       "array([[80, 20],\n",
       "       [72, 63],\n",
       "       [16, 39],\n",
       "       [25, 63],\n",
       "       [92,  4],\n",
       "       [24, 64],\n",
       "       [ 0, 82],\n",
       "       [97, 19],\n",
       "       [12, 78],\n",
       "       [70, 57]])"
      ]
     },
     "execution_count": 21,
     "metadata": {},
     "output_type": "execute_result"
    }
   ],
   "source": [
    "X[:10,:] # randint不支持dtype不为int，可以在下方强制转换"
   ]
  },
  {
   "cell_type": "code",
   "execution_count": 22,
   "metadata": {},
   "outputs": [],
   "source": [
    "X = np.array(X,dtype=float)"
   ]
  },
  {
   "cell_type": "code",
   "execution_count": 23,
   "metadata": {},
   "outputs": [
    {
     "data": {
      "text/plain": [
       "array([[80., 20.],\n",
       "       [72., 63.],\n",
       "       [16., 39.],\n",
       "       [25., 63.],\n",
       "       [92.,  4.],\n",
       "       [24., 64.],\n",
       "       [ 0., 82.],\n",
       "       [97., 19.],\n",
       "       [12., 78.],\n",
       "       [70., 57.]])"
      ]
     },
     "execution_count": 23,
     "metadata": {},
     "output_type": "execute_result"
    }
   ],
   "source": [
    "X[:10,:]"
   ]
  },
  {
   "cell_type": "markdown",
   "metadata": {},
   "source": [
    "对于矩阵来说，应该是每一个维度分别归一化"
   ]
  },
  {
   "cell_type": "code",
   "execution_count": 24,
   "metadata": {},
   "outputs": [
    {
     "data": {
      "text/plain": [
       "array([[0.81632653, 0.20618557],\n",
       "       [0.73469388, 0.64948454],\n",
       "       [0.16326531, 0.40206186],\n",
       "       [0.25510204, 0.64948454],\n",
       "       [0.93877551, 0.04123711],\n",
       "       [0.24489796, 0.65979381],\n",
       "       [0.        , 0.84536082],\n",
       "       [0.98979592, 0.19587629],\n",
       "       [0.12244898, 0.80412371],\n",
       "       [0.71428571, 0.58762887]])"
      ]
     },
     "execution_count": 24,
     "metadata": {},
     "output_type": "execute_result"
    }
   ],
   "source": [
    "X[:,0] = (X[:,0]-np.min(X[:,0]))/(np.max(X[:,0])-np.min(X[:,0])) # 0维度\n",
    "X[:,1] = (X[:,1]-np.min(X[:,1]))/(np.max(X[:,1])-np.min(X[:,1])) # 1维度\n",
    "X[:10,:]"
   ]
  },
  {
   "cell_type": "code",
   "execution_count": 25,
   "metadata": {},
   "outputs": [
    {
     "data": {
      "image/png": "[encoded data removed]",
      "text/plain": [
       "<Figure size 432x288 with 1 Axes>"
      ]
     },
     "metadata": {},
     "output_type": "display_data"
    }
   ],
   "source": [
    "plt.scatter(X[:,0],X[:,1])\n",
    "plt.show()"
   ]
  },
  {
   "cell_type": "code",
   "execution_count": 26,
   "metadata": {},
   "outputs": [
    {
     "data": {
      "text/plain": [
       "0.5420408163265307"
      ]
     },
     "execution_count": 26,
     "metadata": {},
     "output_type": "execute_result"
    }
   ],
   "source": [
    "np.mean(X[:,0])"
   ]
  },
  {
   "cell_type": "code",
   "execution_count": 27,
   "metadata": {},
   "outputs": [
    {
     "data": {
      "text/plain": [
       "0.5235051546391751"
      ]
     },
     "execution_count": 27,
     "metadata": {},
     "output_type": "execute_result"
    }
   ],
   "source": [
    "np.mean(X[:,1])"
   ]
  },
  {
   "cell_type": "code",
   "execution_count": 28,
   "metadata": {},
   "outputs": [
    {
     "data": {
      "text/plain": [
       "0.28622141582255606"
      ]
     },
     "execution_count": 28,
     "metadata": {},
     "output_type": "execute_result"
    }
   ],
   "source": [
    "np.std(X[:,0])"
   ]
  },
  {
   "cell_type": "code",
   "execution_count": 29,
   "metadata": {},
   "outputs": [
    {
     "data": {
      "text/plain": [
       "0.2860210020330608"
      ]
     },
     "execution_count": 29,
     "metadata": {},
     "output_type": "execute_result"
    }
   ],
   "source": [
    "np.std(X[:,1])"
   ]
  },
  {
   "cell_type": "markdown",
   "metadata": {},
   "source": [
    "### 均值方差归一化 Standardization"
   ]
  },
  {
   "cell_type": "code",
   "execution_count": 35,
   "metadata": {},
   "outputs": [],
   "source": [
    "X2 = np.random.randint(0,100,size=(50,2))\n",
    "X2 = np.array(X2,dtype=float)"
   ]
  },
  {
   "cell_type": "code",
   "execution_count": 38,
   "metadata": {},
   "outputs": [
    {
     "data": {
      "text/plain": [
       "array([[-1.43791029, -1.52020191],\n",
       "       [ 0.14518106, -0.95269769],\n",
       "       [-0.51122267,  1.35278816],\n",
       "       [ 0.33824098,  0.92716   ],\n",
       "       [ 1.11048067,  0.96262902],\n",
       "       [-0.51122267,  0.85622198],\n",
       "       [ 1.11048067,  0.6434079 ],\n",
       "       [-0.58844664, -0.63347658],\n",
       "       [-0.97456648, -1.13004276],\n",
       "       [ 0.14518106, -1.09457375]])"
      ]
     },
     "execution_count": 38,
     "metadata": {},
     "output_type": "execute_result"
    }
   ],
   "source": [
    "X2[:,0] = (X2[:,0]-np.mean(X2[:,0]))/(np.std(X2[:,0]))\n",
    "X2[:,1] = (X2[:,1]-np.mean(X2[:,1]))/(np.std(X2[:,1]))\n",
    "X2[:10,:]"
   ]
  },
  {
   "cell_type": "code",
   "execution_count": 39,
   "metadata": {},
   "outputs": [
    {
     "data": {
      "image/png": "[encoded data removed]",
      "text/plain": [
       "<Figure size 432x288 with 1 Axes>"
      ]
     },
     "metadata": {},
     "output_type": "display_data"
    }
   ],
   "source": [
    "plt.scatter(X2[:,0],X2[:,1])\n",
    "plt.show()"
   ]
  },
  {
   "cell_type": "code",
   "execution_count": 40,
   "metadata": {},
   "outputs": [
    {
     "data": {
      "text/plain": [
       "1.0"
      ]
     },
     "execution_count": 40,
     "metadata": {},
     "output_type": "execute_result"
    }
   ],
   "source": [
    "np.std(X2[:,0])"
   ]
  },
  {
   "cell_type": "code",
   "execution_count": 41,
   "metadata": {},
   "outputs": [
    {
     "data": {
      "text/plain": [
       "-2.2204460492503132e-17"
      ]
     },
     "execution_count": 41,
     "metadata": {},
     "output_type": "execute_result"
    }
   ],
   "source": [
    "np.mean(X2[:,0])"
   ]
  },
  {
   "cell_type": "code",
   "execution_count": 42,
   "metadata": {},
   "outputs": [
    {
     "data": {
      "text/plain": [
       "1.0"
      ]
     },
     "execution_count": 42,
     "metadata": {},
     "output_type": "execute_result"
    }
   ],
   "source": [
    "np.std(X2[:,1])"
   ]
  },
  {
   "cell_type": "code",
   "execution_count": 43,
   "metadata": {},
   "outputs": [
    {
     "data": {
      "text/plain": [
       "0.0"
      ]
     },
     "execution_count": 43,
     "metadata": {},
     "output_type": "execute_result"
    }
   ],
   "source": [
    "np.mean(X2[:,1])"
   ]
  },
  {
   "cell_type": "code",
   "execution_count": null,
   "metadata": {},
   "outputs": [],
   "source": []
  }
 ],
 "metadata": {
  "kernelspec": {
   "display_name": "Python 3",
   "language": "python",
   "name": "python3"
  },
  "language_info": {
   "codemirror_mode": {
    "name": "ipython",
    "version": 3
   },
   "file_extension": ".py",
   "mimetype": "text/x-python",
   "name": "python",
   "nbconvert_exporter": "python",
   "pygments_lexer": "ipython3",
   "version": "3.6.8"
  }
 },
 "nbformat": 4,
 "nbformat_minor": 2
}
